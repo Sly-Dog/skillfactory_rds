{
 "cells": [
  {
   "cell_type": "code",
   "execution_count": 95,
   "metadata": {},
   "outputs": [
    {
     "name": "stdout",
     "output_type": "stream",
     "text": [
      "xxxxxxxxxxxxxxxxxxxxxxxxxxxxxxxxxxxxxxxxxxxxxxxxxxxxxxxxxxxxxxxxxxxxxxxxxxxxxxx\n",
      "\t\tЗагадано число от 1 до 100\n",
      "\t\t\tУгадываемое число меньше 25 \n",
      "\t\t\tУгадываемое число меньше 13 \n",
      "\t\t\tУгадываемое число меньше 7 \n",
      "\t\t\tУгадываемое число меньше 4 \n",
      "\t\t\tУгадываемое число больше 5 \n",
      "\t\tВы угадали число 5 за 5 попыток.\n",
      "xxxxxxxxxxxxxxxxxxxxxxxxxxxxxxxxxxxxxxxxxxxxxxxxxxxxxxxxxxxxxxxxxxxxxxxxxxxxxxx\n"
     ]
    }
   ],
   "source": [
    "'''Код без введения функций(чисто потыкаться, проверить работает ли)'''\n",
    "\n",
    "print(\"x\"*79) # Вывод ориентира для PEP-8\n",
    "\n",
    "import numpy as np                   # импорт библиотеки\n",
    "number=np.random.randint(1,101)      # генерация псевдослучайного числа\n",
    "print (\"\\t\\tЗагадано число от 1 до 100\") \n",
    "\n",
    "'''Алгоритм, угадывающий число'''\n",
    "predict=50  # первое предполагаемое число\n",
    "count=0     # счетчик попыток\n",
    "\n",
    "\n",
    "while number!=predict: # цикл остановится, если число совпадёт                               \n",
    "    count+=1           # счётчик попыток\n",
    "    if count < 5:      #  на 5 итерации деления ниже не оправданны\n",
    "        if number > predict: \n",
    "            print (f\"\\t\\t\\tУгадываемое число больше {predict} \")\n",
    "# Каждый раз будем делить определяемую область попалам для нахождения числа\n",
    "            predict+=int(50 / 2**count)   \n",
    "                                        \n",
    "        else:                           \n",
    "            predict-=int(50 / 2**count)\n",
    "            print (f\"\\t\\t\\tУгадываемое число меньше {predict} \") \n",
    "\n",
    "#Когда деление дойдёт до минимального значения, будем идти по единице            \n",
    "    else:\n",
    "        if number > predict:\n",
    "            predict+=1\n",
    "            print (f\"\\t\\t\\tУгадываемое число больше {predict} \")\n",
    "            \n",
    "        else:\n",
    "            predict-=1\n",
    "            print (f\"\\t\\t\\tУгадываемое число меньше {predict} \")\n",
    "\n",
    "if count == 0:count+=1 # если число будет угадано сразу, попытка будет одна\n",
    "\n",
    "print (f\"\\t\\tВы угадали число {number} за {count} попыток.\")\n",
    "\n",
    "print(\"x\"*79) # Вывод ориентира для PEP-8"
   ]
  },
  {
   "cell_type": "code",
   "execution_count": 77,
   "metadata": {},
   "outputs": [
    {
     "name": "stdout",
     "output_type": "stream",
     "text": [
      "xxxxxxxxxxxxxxxxxxxxxxxxxxxxxxxxxxxxxxxxxxxxxxxxxxxxxxxxxxxxxxxxxxxxxxxxxxxxxxx\n"
     ]
    }
   ],
   "source": [
    "\"\"\"Определил функцию алгоритма угадывания\"\"\"\n",
    "\n",
    "def game_core_3(number):\n",
    "    '''Алгоритм угадывания числа в функции'''\n",
    "    predict=50  \n",
    "    count=0\n",
    "    \n",
    "    while number != predict:                                               \n",
    "        count+=1\n",
    "        \n",
    "        if count < 5:\n",
    "            if number > predict: \n",
    "                predict+=int(50 / 2**count)  \n",
    "# Убрал весь вывод текста для простого юзания в другой функции\n",
    "            else: \n",
    "                predict-=int(50 / 2**count)\n",
    "                \n",
    "        else:\n",
    "            if number > predict:\n",
    "                predict+=1\n",
    "                \n",
    "            else:\n",
    "                predict-=1\n",
    "    if count == 0:count+=1            \n",
    "    return(count) # Вывел количество попыток для работы с другой функцией\n",
    "\n",
    "print(\"x\"*79) # Вывод ориентира для PEP-8"
   ]
  },
  {
   "cell_type": "code",
   "execution_count": 76,
   "metadata": {},
   "outputs": [
    {
     "name": "stdout",
     "output_type": "stream",
     "text": [
      "xxxxxxxxxxxxxxxxxxxxxxxxxxxxxxxxxxxxxxxxxxxxxxxxxxxxxxxxxxxxxxxxxxxxxxxxxxxxxxx\n"
     ]
    }
   ],
   "source": [
    "\"\"\"Определил функцию нахождения среднего количества попыток\"\"\"\n",
    "\n",
    "def score_game(game_core):\n",
    "    '''Нахождение среднего чилса попыток '''\n",
    "    \n",
    "    count_ls=[]       # создаём список для количеств попыток\n",
    "    np.random.seed(1) # фиксируем RANDOM SEED, чтобы тест был воспроизводим\n",
    "    random_array=np.random.randint(1,101, size=(1000)) # список рандом чисел\n",
    "    \n",
    "    for number in random_array:\n",
    "        count_ls.append(game_core(number)) # +число попыток в список\n",
    "        \n",
    "    score=int(np.mean(count_ls)) # находим среднее количество попыток\n",
    "    \n",
    "    print(f\"Алгоритму для угадывания числа в среднем нужно {score} попытки\")\n",
    "    \n",
    "print(\"x\"*79) # Вывод ориентира для PEP-8"
   ]
  },
  {
   "cell_type": "code",
   "execution_count": 98,
   "metadata": {},
   "outputs": [
    {
     "name": "stdout",
     "output_type": "stream",
     "text": [
      "Алгоритму для угадывания числа в среднем нужно 4 попытки\n"
     ]
    }
   ],
   "source": [
    "score_game(game_core_3) # собственно вывод среднего кол-ва попыток"
   ]
  }
 ],
 "metadata": {
  "kernelspec": {
   "display_name": "Python 3",
   "language": "python",
   "name": "python3"
  },
  "language_info": {
   "codemirror_mode": {
    "name": "ipython",
    "version": 3
   },
   "file_extension": ".py",
   "mimetype": "text/x-python",
   "name": "python",
   "nbconvert_exporter": "python",
   "pygments_lexer": "ipython3",
   "version": "3.8.3"
  }
 },
 "nbformat": 4,
 "nbformat_minor": 4
}
